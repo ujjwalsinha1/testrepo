{
 "cells": [
  {
   "cell_type": "markdown",
   "id": "25c088f7-49ae-4b63-b5d9-ae0edd996fc7",
   "metadata": {},
   "source": [
    "# H1 : Data Science Tools and Ecosystem"
   ]
  },
  {
   "cell_type": "markdown",
   "id": "54191165-ab54-4044-9abd-6b3250d02643",
   "metadata": {},
   "source": [
    "# In this notebook, Data Science Tools and Ecosystem are summarized\n"
   ]
  },
  {
   "cell_type": "markdown",
   "id": "de6dfc52-d601-4132-a4ec-b011613aaa10",
   "metadata": {},
   "source": [
    "# Some of the commonly used libraries used by Data Scientists include\n",
    "1. Pandas\n",
    "2. Matplotlib\n",
    "3. NUMPY\n"
   ]
  },
  {
   "cell_type": "markdown",
   "id": "5d63761a-ea2e-4662-b3f5-a00d20bde539",
   "metadata": {},
   "source": [
    "__OBJECTIVE.__\n",
    "- List popular languages for Data Science.\n",
    "- Different tools for data science \n",
    "- jupyter notebooks and jupyter lab"
   ]
  },
  {
   "cell_type": "markdown",
   "id": "c91d97c6-c930-42e9-aef7-ea41863c5d29",
   "metadata": {},
   "source": [
    " |Data Science Tools|\n",
    " |------------------|\n",
    " |JupyterLab Notebook & Jupyter Notebook|\n",
    " |SPYDER|\n",
    " |PYCHARM|"
   ]
  },
  {
   "cell_type": "markdown",
   "id": "028d36bc-0ea6-466e-bbfd-3a7d5d6bd405",
   "metadata": {},
   "source": [
    "### H3: Below are a few examples of evaluating arithmetic expressions in Python\n",
    "\n",
    "     "
   ]
  },
  {
   "cell_type": "markdown",
   "id": "2837c55c-0bee-4874-8f74-37f5ca65493b",
   "metadata": {},
   "source": [
    "# This a simple arithmetic expression to mutiply then add integer \n",
    "\n",
    " 17\n",
    " "
   ]
  },
  {
   "cell_type": "markdown",
   "id": "19548c34-aa1d-4b64-96f5-d5a1535c76a1",
   "metadata": {},
   "source": [
    "# This will convert 200 minutes to hours by diving by 60\n",
    " 10/3 \n",
    " "
   ]
  },
  {
   "cell_type": "markdown",
   "id": "7ea66e12-800d-41fc-9672-12276519d138",
   "metadata": {},
   "source": [
    "## H2 : AUTHOR \n",
    " UJJWAL SINHA "
   ]
  },
  {
   "cell_type": "code",
   "execution_count": null,
   "id": "89af2426-6316-44ca-a76a-0829de999f5a",
   "metadata": {},
   "outputs": [],
   "source": []
  }
 ],
 "metadata": {
  "kernelspec": {
   "display_name": "Python 3 (ipykernel)",
   "language": "python",
   "name": "python3"
  },
  "language_info": {
   "codemirror_mode": {
    "name": "ipython",
    "version": 3
   },
   "file_extension": ".py",
   "mimetype": "text/x-python",
   "name": "python",
   "nbconvert_exporter": "python",
   "pygments_lexer": "ipython3",
   "version": "3.10.9"
  }
 },
 "nbformat": 4,
 "nbformat_minor": 5
}
